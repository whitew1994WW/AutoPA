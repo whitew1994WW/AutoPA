{
 "cells": [
  {
   "cell_type": "code",
   "execution_count": 1,
   "metadata": {},
   "outputs": [
    {
     "ename": "NameError",
     "evalue": "name 'get_appointments_between_tool' is not defined",
     "output_type": "error",
     "traceback": [
      "\u001b[1;31m---------------------------------------------------------------------------\u001b[0m",
      "\u001b[1;31mNameError\u001b[0m                                 Traceback (most recent call last)",
      "Cell \u001b[1;32mIn[1], line 1\u001b[0m\n\u001b[1;32m----> 1\u001b[0m \u001b[38;5;28;01mfrom\u001b[39;00m \u001b[38;5;21;01mchat_agents\u001b[39;00m \u001b[38;5;28;01mimport\u001b[39;00m DualChatAgent\n",
      "File \u001b[1;32mc:\\Users\\Will\\Repos\\AutoPA\\chat_agents.py:222\u001b[0m\n\u001b[0;32m    201\u001b[0m caller_pa_prompt \u001b[38;5;241m=\u001b[39m \u001b[38;5;124m\"\"\"\u001b[39m\u001b[38;5;124mYou are a personal assistant bot. All messages that would be sent to your boss (Will) are instead sent to you. You have to do the following:\u001b[39m\n\u001b[0;32m    202\u001b[0m \u001b[38;5;124m1. Get the callers name and reason for contacting your boss\u001b[39m\n\u001b[0;32m    203\u001b[0m \u001b[38;5;124m2. Forward these details to your boss\u001b[39m\n\u001b[1;32m   (...)\u001b[0m\n\u001b[0;32m    215\u001b[0m \n\u001b[0;32m    216\u001b[0m \u001b[38;5;124m\"\"\"\u001b[39m\n\u001b[0;32m    218\u001b[0m caller_chat_template \u001b[38;5;241m=\u001b[39m ChatPromptTemplate\u001b[38;5;241m.\u001b[39mfrom_messages([\n\u001b[0;32m    219\u001b[0m     (\u001b[38;5;124m\"\u001b[39m\u001b[38;5;124msystem\u001b[39m\u001b[38;5;124m\"\u001b[39m, caller_pa_prompt),\n\u001b[0;32m    220\u001b[0m     (\u001b[38;5;124m\"\u001b[39m\u001b[38;5;124mplaceholder\u001b[39m\u001b[38;5;124m\"\u001b[39m, \u001b[38;5;124m\"\u001b[39m\u001b[38;5;132;01m{caller_conversation}\u001b[39;00m\u001b[38;5;124m\"\u001b[39m),\n\u001b[0;32m    221\u001b[0m ])\n\u001b[1;32m--> 222\u001b[0m caller_tools \u001b[38;5;241m=\u001b[39m [send_boss_message, book_appointment_tool, cancel_appointment_tool, \u001b[43mget_appointments_between_tool\u001b[49m]\n\u001b[0;32m    223\u001b[0m caller_tool_executor \u001b[38;5;241m=\u001b[39m ToolExecutor(caller_tools)\n\u001b[0;32m    224\u001b[0m caller_model \u001b[38;5;241m=\u001b[39m caller_chat_template \u001b[38;5;241m|\u001b[39m llm\u001b[38;5;241m.\u001b[39mbind_tools(caller_tools)\n",
      "\u001b[1;31mNameError\u001b[0m: name 'get_appointments_between_tool' is not defined"
     ]
    }
   ],
   "source": [
    "from chat_agents import DualChatAgent"
   ]
  },
  {
   "cell_type": "code",
   "execution_count": null,
   "metadata": {},
   "outputs": [],
   "source": []
  }
 ],
 "metadata": {
  "kernelspec": {
   "display_name": "Python 3",
   "language": "python",
   "name": "python3"
  },
  "language_info": {
   "codemirror_mode": {
    "name": "ipython",
    "version": 3
   },
   "file_extension": ".py",
   "mimetype": "text/x-python",
   "name": "python",
   "nbconvert_exporter": "python",
   "pygments_lexer": "ipython3",
   "version": "3.10.14"
  }
 },
 "nbformat": 4,
 "nbformat_minor": 2
}
